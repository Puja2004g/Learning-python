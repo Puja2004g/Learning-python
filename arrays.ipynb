{
 "cells": [
  {
   "cell_type": "code",
   "execution_count": 9,
   "id": "9b9fc9b7",
   "metadata": {},
   "outputs": [],
   "source": [
    "cars = [\"Ford\", \"Volvo\", \"BMW\"]"
   ]
  },
  {
   "cell_type": "markdown",
   "id": "c2617f7f",
   "metadata": {},
   "source": [
    "Values at index"
   ]
  },
  {
   "cell_type": "code",
   "execution_count": 2,
   "id": "3793719f",
   "metadata": {},
   "outputs": [],
   "source": [
    "x = cars[0]"
   ]
  },
  {
   "cell_type": "markdown",
   "id": "6030925d",
   "metadata": {},
   "source": [
    "Modify value"
   ]
  },
  {
   "cell_type": "code",
   "execution_count": 3,
   "id": "13419f39",
   "metadata": {},
   "outputs": [],
   "source": [
    "cars[0] = \"Toyota\""
   ]
  },
  {
   "cell_type": "markdown",
   "id": "3f7556c7",
   "metadata": {},
   "source": [
    "Find the length of array"
   ]
  },
  {
   "cell_type": "code",
   "execution_count": 4,
   "id": "556ddd9e",
   "metadata": {},
   "outputs": [],
   "source": [
    "x = len(cars)"
   ]
  },
  {
   "cell_type": "markdown",
   "id": "cec1fcd3",
   "metadata": {},
   "source": [
    "Print all elements using loop"
   ]
  },
  {
   "cell_type": "code",
   "execution_count": 5,
   "id": "6f62b8d4",
   "metadata": {},
   "outputs": [
    {
     "name": "stdout",
     "output_type": "stream",
     "text": [
      "Toyota\n",
      "Volvo\n",
      "BMW\n"
     ]
    }
   ],
   "source": [
    "for x in cars:\n",
    "  print(x)"
   ]
  },
  {
   "cell_type": "markdown",
   "id": "62c63da9",
   "metadata": {},
   "source": [
    "Add an element"
   ]
  },
  {
   "cell_type": "code",
   "execution_count": 6,
   "id": "29b5fc95",
   "metadata": {},
   "outputs": [],
   "source": [
    "cars.append(\"Honda\")"
   ]
  },
  {
   "cell_type": "markdown",
   "id": "4eb5b816",
   "metadata": {},
   "source": [
    "Remove an element using index"
   ]
  },
  {
   "cell_type": "code",
   "execution_count": 7,
   "id": "b0215a05",
   "metadata": {},
   "outputs": [
    {
     "data": {
      "text/plain": [
       "'Volvo'"
      ]
     },
     "execution_count": 7,
     "metadata": {},
     "output_type": "execute_result"
    }
   ],
   "source": [
    "cars.pop(1)"
   ]
  },
  {
   "cell_type": "markdown",
   "id": "4476c0b7",
   "metadata": {},
   "source": [
    "Remove an element with given value"
   ]
  },
  {
   "cell_type": "code",
   "execution_count": 10,
   "id": "12997708",
   "metadata": {},
   "outputs": [],
   "source": [
    "cars.remove(\"Volvo\")"
   ]
  },
  {
   "cell_type": "markdown",
   "id": "61789794",
   "metadata": {},
   "source": [
    "Sort the array"
   ]
  },
  {
   "cell_type": "code",
   "execution_count": 15,
   "id": "8c3218a5",
   "metadata": {},
   "outputs": [
    {
     "name": "stdout",
     "output_type": "stream",
     "text": [
      "['BMW', 'Ford']\n"
     ]
    }
   ],
   "source": [
    "cars.sort()\n",
    "print(cars)"
   ]
  },
  {
   "cell_type": "markdown",
   "id": "2ce04e41",
   "metadata": {},
   "source": [
    "Reverse the array"
   ]
  },
  {
   "cell_type": "code",
   "execution_count": 16,
   "id": "d7bc5f12",
   "metadata": {},
   "outputs": [
    {
     "name": "stdout",
     "output_type": "stream",
     "text": [
      "['Ford', 'BMW']\n"
     ]
    }
   ],
   "source": [
    "cars.reverse()\n",
    "print(cars)"
   ]
  },
  {
   "cell_type": "markdown",
   "id": "a674f76d",
   "metadata": {},
   "source": [
    "Count no. of elements"
   ]
  },
  {
   "cell_type": "code",
   "execution_count": 21,
   "id": "9c5c1b91",
   "metadata": {},
   "outputs": [
    {
     "name": "stdout",
     "output_type": "stream",
     "text": [
      "1\n"
     ]
    }
   ],
   "source": [
    "print(cars.count(\"Ford\"))"
   ]
  }
 ],
 "metadata": {
  "kernelspec": {
   "display_name": "Python 3",
   "language": "python",
   "name": "python3"
  },
  "language_info": {
   "codemirror_mode": {
    "name": "ipython",
    "version": 3
   },
   "file_extension": ".py",
   "mimetype": "text/x-python",
   "name": "python",
   "nbconvert_exporter": "python",
   "pygments_lexer": "ipython3",
   "version": "3.13.3"
  }
 },
 "nbformat": 4,
 "nbformat_minor": 5
}
