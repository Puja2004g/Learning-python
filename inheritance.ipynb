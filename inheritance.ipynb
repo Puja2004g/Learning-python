{
 "cells": [
  {
   "cell_type": "markdown",
   "id": "ca1af16f",
   "metadata": {},
   "source": [
    "Base class"
   ]
  },
  {
   "cell_type": "code",
   "execution_count": 16,
   "id": "6c529ec0",
   "metadata": {},
   "outputs": [],
   "source": [
    "class student:\n",
    "    def __init__(self, name, age):\n",
    "        self.name = name\n",
    "        self.age = age\n",
    "    def getname(self):\n",
    "        print(self.name)"
   ]
  },
  {
   "cell_type": "markdown",
   "id": "13c266de",
   "metadata": {},
   "source": [
    "Child class"
   ]
  },
  {
   "cell_type": "code",
   "execution_count": 22,
   "id": "1226d890-24d5-4b36-8d54-fbaa9e48d901",
   "metadata": {},
   "outputs": [],
   "source": [
    "class student1(student):\n",
    "    pass"
   ]
  },
  {
   "cell_type": "markdown",
   "id": "34d36255",
   "metadata": {},
   "source": [
    "inheritance"
   ]
  },
  {
   "cell_type": "code",
   "execution_count": 19,
   "id": "edf1e5c0-0efe-44b0-9169-8edaec7749dc",
   "metadata": {},
   "outputs": [
    {
     "name": "stdout",
     "output_type": "stream",
     "text": [
      "Puja\n"
     ]
    }
   ],
   "source": [
    "obj1= student (\"Puja\", 22)\n",
    "obj1.getname()"
   ]
  },
  {
   "cell_type": "code",
   "execution_count": null,
   "id": "5524ab64-f1b0-45cc-818f-2f1fed21dcdc",
   "metadata": {},
   "outputs": [],
   "source": [
    "obj = student1(\"ABC\",25)\n",
    "obj.getname()"
   ]
  },
  {
   "cell_type": "code",
   "execution_count": 26,
   "id": "3ba34134-a1e9-4d32-b47d-bbc33eed0f5c",
   "metadata": {},
   "outputs": [],
   "source": [
    "class Pereson(student):\n",
    "  def __init__(self, fname, lname):\n",
    "    super().__init__(fname, lname)\n",
    "    self.graduationyear = 2019"
   ]
  }
 ],
 "metadata": {
  "kernelspec": {
   "display_name": "Python 3",
   "language": "python",
   "name": "python3"
  },
  "language_info": {
   "codemirror_mode": {
    "name": "ipython",
    "version": 3
   },
   "file_extension": ".py",
   "mimetype": "text/x-python",
   "name": "python",
   "nbconvert_exporter": "python",
   "pygments_lexer": "ipython3",
   "version": "3.13.3"
  }
 },
 "nbformat": 4,
 "nbformat_minor": 5
}
