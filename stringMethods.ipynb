{
 "cells": [
  {
   "cell_type": "code",
   "execution_count": 6,
   "id": "41426eac",
   "metadata": {},
   "outputs": [],
   "source": [
    "lower = \"this is a simple string\"\n",
    "upper = \"THIS IS AN UPPERCASE STRING\"\n",
    "altcs = \"AlTeRnAtE cAsE sTrInG\"        # altcs = alternate case\n",
    "nums  = \"I have 2 apples and 3 bananas\"\n",
    "snum  = \"7 wonders of the world\"       # snum = starts with number\n",
    "enum  = \"Chapter number is 5\"          # enum = ends with number\n",
    "dupe  = \"This is is a repeated word example\"\n",
    "alnum = \"My code is A1B2C3\""
   ]
  },
  {
   "cell_type": "markdown",
   "id": "e0a7dc69",
   "metadata": {},
   "source": [
    "capitalize"
   ]
  },
  {
   "cell_type": "code",
   "execution_count": 7,
   "id": "b6d36a82",
   "metadata": {},
   "outputs": [
    {
     "name": "stdout",
     "output_type": "stream",
     "text": [
      "This is a simple string\n"
     ]
    }
   ],
   "source": [
    "print(lower.capitalize())"
   ]
  },
  {
   "cell_type": "markdown",
   "id": "7fa58f4f",
   "metadata": {},
   "source": [
    "casefold"
   ]
  },
  {
   "cell_type": "code",
   "execution_count": 8,
   "id": "47e1a727",
   "metadata": {},
   "outputs": [
    {
     "name": "stdout",
     "output_type": "stream",
     "text": [
      "this is an uppercase string\n"
     ]
    }
   ],
   "source": [
    "print(upper.casefold())"
   ]
  },
  {
   "cell_type": "markdown",
   "id": "189c39b1",
   "metadata": {},
   "source": [
    "count a repeated word"
   ]
  },
  {
   "cell_type": "code",
   "execution_count": 11,
   "id": "6e90df54",
   "metadata": {},
   "outputs": [
    {
     "name": "stdout",
     "output_type": "stream",
     "text": [
      "3\n"
     ]
    }
   ],
   "source": [
    "print(dupe.count('is'))"
   ]
  },
  {
   "cell_type": "markdown",
   "id": "29f80216",
   "metadata": {},
   "source": [
    "ends with"
   ]
  },
  {
   "cell_type": "code",
   "execution_count": 16,
   "id": "d5b1286f",
   "metadata": {},
   "outputs": [
    {
     "name": "stdout",
     "output_type": "stream",
     "text": [
      "True\n"
     ]
    }
   ],
   "source": [
    "print(enum.endswith(\"5\"))"
   ]
  },
  {
   "cell_type": "markdown",
   "id": "443fcbc5",
   "metadata": {},
   "source": [
    "find()"
   ]
  },
  {
   "cell_type": "code",
   "execution_count": 17,
   "id": "a543785a",
   "metadata": {},
   "outputs": [
    {
     "name": "stdout",
     "output_type": "stream",
     "text": [
      "9\n"
     ]
    }
   ],
   "source": [
    "print(nums.find(\"apples\"))"
   ]
  }
 ],
 "metadata": {
  "kernelspec": {
   "display_name": "Python 3",
   "language": "python",
   "name": "python3"
  },
  "language_info": {
   "codemirror_mode": {
    "name": "ipython",
    "version": 3
   },
   "file_extension": ".py",
   "mimetype": "text/x-python",
   "name": "python",
   "nbconvert_exporter": "python",
   "pygments_lexer": "ipython3",
   "version": "3.13.3"
  }
 },
 "nbformat": 4,
 "nbformat_minor": 5
}
