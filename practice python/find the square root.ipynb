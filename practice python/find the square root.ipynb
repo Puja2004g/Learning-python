{
 "cells": [
  {
   "cell_type": "code",
   "execution_count": 1,
   "id": "0db901b8-0cd2-4623-9779-6efda20c39f5",
   "metadata": {},
   "outputs": [],
   "source": [
    "import math"
   ]
  },
  {
   "cell_type": "code",
   "execution_count": 2,
   "id": "30c9c89e-7f9e-45c2-a5c2-c68b2a4358a0",
   "metadata": {},
   "outputs": [],
   "source": [
    "def getSquareRoot(num):\n",
    "    return math.sqrt(num)"
   ]
  },
  {
   "cell_type": "code",
   "execution_count": 3,
   "id": "b49d4fb4-c5bc-4df6-8858-b1c7e64767ef",
   "metadata": {},
   "outputs": [
    {
     "name": "stdout",
     "output_type": "stream",
     "text": [
      "9.433981132056603\n"
     ]
    }
   ],
   "source": [
    "number = int(input(\"Enter num: \"))\n",
    "num = getSquareRoot(number)\n",
    "print(num)"
   ]
  },
  {
   "cell_type": "code",
   "execution_count": 4,
   "id": "76cb9da0-2ae4-465e-a403-84cd409a0731",
   "metadata": {},
   "outputs": [],
   "source": [
    "def getRoot(num):\n",
    "    num = float(pow(num,0.5))\n",
    "    print(num)"
   ]
  },
  {
   "cell_type": "code",
   "execution_count": 5,
   "id": "66511170-bc4e-481d-8ebe-825aa1b4feb2",
   "metadata": {},
   "outputs": [
    {
     "name": "stdout",
     "output_type": "stream",
     "text": [
      "9.433981132056603\n"
     ]
    }
   ],
   "source": [
    "number = int(input(\"Enter num: \"))\n",
    "getRoot(number)"
   ]
  }
 ],
 "metadata": {
  "kernelspec": {
   "display_name": "Python 3",
   "language": "python",
   "name": "python3"
  },
  "language_info": {
   "codemirror_mode": {
    "name": "ipython",
    "version": 3
   },
   "file_extension": ".py",
   "mimetype": "text/x-python",
   "name": "python",
   "nbconvert_exporter": "python",
   "pygments_lexer": "ipython3",
   "version": "3.13.3"
  }
 },
 "nbformat": 4,
 "nbformat_minor": 5
}
