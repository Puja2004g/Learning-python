{
 "cells": [
  {
   "cell_type": "markdown",
   "id": "8c95c260",
   "metadata": {},
   "source": [
    "Arithmetic operators"
   ]
  },
  {
   "cell_type": "code",
   "execution_count": 2,
   "id": "8ffefd32",
   "metadata": {},
   "outputs": [
    {
     "name": "stdout",
     "output_type": "stream",
     "text": [
      "Addition: 13\n",
      "Subtraction: 7\n",
      "Multiplication: 30\n",
      "Division: 3.3333333333333335\n",
      "Modulus: 1\n",
      "Exponentiation: 1000\n",
      "Floor Division: 3\n"
     ]
    }
   ],
   "source": [
    "x = 10\n",
    "y = 3\n",
    "\n",
    "# Addition\n",
    "add = x + y          # 10 + 3 = 13\n",
    "\n",
    "# Subtraction\n",
    "sub = x - y          # 10 - 3 = 7\n",
    "\n",
    "# Multiplication\n",
    "mul = x * y          # 10 * 3 = 30\n",
    "\n",
    "# Division (returns float)\n",
    "div = x / y          # 10 / 3 = 3.333...\n",
    "\n",
    "# Modulus (remainder)\n",
    "mod = x % y          # 10 % 3 = 1\n",
    "\n",
    "# Exponentiation\n",
    "exp = x ** y         # 10 ** 3 = 1000\n",
    "\n",
    "# Floor Division (returns integer)\n",
    "fdiv = x // y        # 10 // 3 = 3\n",
    "\n",
    "# Print results\n",
    "print(\"Addition:\", add)\n",
    "print(\"Subtraction:\", sub)\n",
    "print(\"Multiplication:\", mul)\n",
    "print(\"Division:\", div)\n",
    "print(\"Modulus:\", mod)\n",
    "print(\"Exponentiation:\", exp)\n",
    "print(\"Floor Division:\", fdiv)\n"
   ]
  },
  {
   "cell_type": "markdown",
   "id": "38b693d5",
   "metadata": {},
   "source": [
    "Assignment operator"
   ]
  },
  {
   "cell_type": "code",
   "execution_count": 4,
   "id": "3e909c74",
   "metadata": {},
   "outputs": [
    {
     "name": "stdout",
     "output_type": "stream",
     "text": [
      "= : 5\n",
      "+= : 8\n",
      "-= : 2\n",
      "*= : 15\n",
      "/= : 1.6666666666666667\n",
      "%= : 2\n",
      "//= : 1\n",
      "**= : 125\n",
      "&= : 1\n",
      "|= : 7\n",
      "^= : 6\n",
      ">>= : 2\n",
      "<<= : 10\n",
      ":= : 3\n",
      "Final value of x: 3\n"
     ]
    }
   ],
   "source": [
    "# Simple assignment\n",
    "x = 5\n",
    "print(\"= :\", x)  # x = 5\n",
    "\n",
    "# Addition assignment\n",
    "x = 5\n",
    "x += 3           # x = x + 3\n",
    "print(\"+= :\", x)\n",
    "\n",
    "# Subtraction assignment\n",
    "x = 5\n",
    "x -= 3           # x = x - 3\n",
    "print(\"-= :\", x)\n",
    "\n",
    "# Multiplication assignment\n",
    "x = 5\n",
    "x *= 3           # x = x * 3\n",
    "print(\"*= :\", x)\n",
    "\n",
    "# Division assignment\n",
    "x = 5\n",
    "x /= 3           # x = x / 3\n",
    "print(\"/= :\", x)\n",
    "\n",
    "# Modulus assignment\n",
    "x = 5\n",
    "x %= 3           # x = x % 3\n",
    "print(\"%= :\", x)\n",
    "\n",
    "# Floor Division assignment\n",
    "x = 5\n",
    "x //= 3          # x = x // 3\n",
    "print(\"//= :\", x)\n",
    "\n",
    "# Exponentiation assignment\n",
    "x = 5\n",
    "x **= 3          # x = x ** 3\n",
    "print(\"**= :\", x)\n",
    "\n",
    "# Bitwise AND assignment\n",
    "x = 5\n",
    "x &= 3           # x = x & 3\n",
    "print(\"&= :\", x)\n",
    "\n",
    "# Bitwise OR assignment\n",
    "x = 5\n",
    "x |= 3           # x = x | 3\n",
    "print(\"|= :\", x)\n",
    "\n",
    "# Bitwise XOR assignment\n",
    "x = 5\n",
    "x ^= 3           # x = x ^ 3\n",
    "print(\"^= :\", x)\n",
    "\n",
    "# Bitwise right shift assignment\n",
    "x = 5\n",
    "x >>= 1          # x = x >> 1\n",
    "print(\">>= :\", x)\n",
    "\n",
    "# Bitwise left shift assignment\n",
    "x = 5\n",
    "x <<= 1          # x = x << 1\n",
    "print(\"<<= :\", x)\n",
    "\n",
    "# Walrus operator (Python 3.8+)\n",
    "print(\":= :\", (x := 3))  # Assign and print in one expression\n",
    "print(\"Final value of x:\", x)\n"
   ]
  },
  {
   "cell_type": "markdown",
   "id": "ea374534",
   "metadata": {},
   "source": [
    "Comparison operator"
   ]
  },
  {
   "cell_type": "code",
   "execution_count": 5,
   "id": "da2350cd",
   "metadata": {},
   "outputs": [
    {
     "name": "stdout",
     "output_type": "stream",
     "text": [
      "== : False\n",
      "!= : True\n",
      ">  : True\n",
      "<  : False\n",
      ">= : True\n",
      "<= : False\n"
     ]
    }
   ],
   "source": [
    "x = 10\n",
    "y = 5\n",
    "\n",
    "# Equal to\n",
    "eq = x == y      # False\n",
    "print(\"== :\", eq)\n",
    "\n",
    "# Not equal to\n",
    "neq = x != y     # True\n",
    "print(\"!= :\", neq)\n",
    "\n",
    "# Greater than\n",
    "gt = x > y       # True\n",
    "print(\">  :\", gt)\n",
    "\n",
    "# Less than\n",
    "lt = x < y       # False\n",
    "print(\"<  :\", lt)\n",
    "\n",
    "# Greater than or equal to\n",
    "gte = x >= y     # True\n",
    "print(\">= :\", gte)\n",
    "\n",
    "# Less than or equal to\n",
    "lte = x <= y     # False\n",
    "print(\"<= :\", lte)\n"
   ]
  },
  {
   "cell_type": "markdown",
   "id": "1be132f2",
   "metadata": {},
   "source": [
    "Logical operators"
   ]
  },
  {
   "cell_type": "code",
   "execution_count": 6,
   "id": "7c51831f",
   "metadata": {},
   "outputs": [
    {
     "name": "stdout",
     "output_type": "stream",
     "text": [
      "and : True\n",
      "or  : True\n",
      "not : False\n"
     ]
    }
   ],
   "source": [
    "x = 7\n",
    "\n",
    "# and → True only if both conditions are True\n",
    "and_result = x > 5 and x < 10     # True and True → True\n",
    "print(\"and :\", and_result)\n",
    "\n",
    "# or → True if at least one condition is True\n",
    "or_result = x < 5 or x < 10       # False or True → True\n",
    "print(\"or  :\", or_result)\n",
    "\n",
    "# not → Reverses the result\n",
    "not_result = not (x > 5 and x < 10)   # not(True) → False\n",
    "print(\"not :\", not_result)\n"
   ]
  },
  {
   "cell_type": "markdown",
   "id": "adf2adff",
   "metadata": {},
   "source": [
    "Identity operators"
   ]
  },
  {
   "cell_type": "code",
   "execution_count": 7,
   "id": "b5c617fc",
   "metadata": {},
   "outputs": [
    {
     "name": "stdout",
     "output_type": "stream",
     "text": [
      "x is y       : True\n",
      "x is not y   : False\n",
      "a is b       : False\n",
      "a is not b   : True\n"
     ]
    }
   ],
   "source": [
    "# Case 1: Two variables pointing to the same object\n",
    "x = [1, 2, 3]\n",
    "y = x          # y is just another name for the same list object\n",
    "\n",
    "# Identity check: same object in memory\n",
    "print(\"x is y       :\", x is y)        # True\n",
    "print(\"x is not y   :\", x is not y)    # False\n",
    "\n",
    "# Case 2: Two variables with the same value but different objects\n",
    "a = [1, 2, 3]\n",
    "b = [1, 2, 3]   # b has same content, but is a different object\n",
    "\n",
    "# Identity check: different object in memory\n",
    "print(\"a is b       :\", a is b)        # False\n",
    "print(\"a is not b   :\", a is not b)    # True\n"
   ]
  },
  {
   "cell_type": "markdown",
   "id": "86c0da49",
   "metadata": {},
   "source": [
    "Membership operators"
   ]
  },
  {
   "cell_type": "code",
   "execution_count": 8,
   "id": "5e02d66d",
   "metadata": {},
   "outputs": [
    {
     "name": "stdout",
     "output_type": "stream",
     "text": [
      "'Python' in text     : True\n",
      "'java' in text       : False\n",
      "'fun' not in text    : False\n",
      "'difficult' not in text: True\n"
     ]
    }
   ],
   "source": [
    "text = \"learning Python is fun\"\n",
    "\n",
    "# 'in' operator\n",
    "print(\"'Python' in text     :\", \"Python\" in text)         # True\n",
    "print(\"'java' in text       :\", \"java\" in text)           # False\n",
    "\n",
    "# 'not in' operator\n",
    "print(\"'fun' not in text    :\", \"fun\" not in text)        # False\n",
    "print(\"'difficult' not in text:\", \"difficult\" not in text)  # True\n"
   ]
  },
  {
   "cell_type": "markdown",
   "id": "5b78fb9c",
   "metadata": {},
   "source": [
    "Bitwise operators"
   ]
  },
  {
   "cell_type": "code",
   "execution_count": 9,
   "id": "defdd877",
   "metadata": {},
   "outputs": [
    {
     "name": "stdout",
     "output_type": "stream",
     "text": [
      "x & y  : 1\n",
      "x | y  : 7\n",
      "x ^ y  : 6\n",
      "~x     : -6\n",
      "x << 2 : 20\n",
      "x >> 2 : 1\n"
     ]
    }
   ],
   "source": [
    "x = 5  # In binary: 0101\n",
    "y = 3  # In binary: 0011\n",
    "\n",
    "# AND (x & y): Sets each bit to 1 if both bits are 1\n",
    "and_result = x & y  # 0101 & 0011 = 0001 (1)\n",
    "print(\"x & y  :\", and_result)\n",
    "\n",
    "# OR (x | y): Sets each bit to 1 if one of the bits is 1\n",
    "or_result = x | y   # 0101 | 0011 = 0111 (7)\n",
    "print(\"x | y  :\", or_result)\n",
    "\n",
    "# XOR (x ^ y): Sets each bit to 1 if only one of the bits is 1\n",
    "xor_result = x ^ y  # 0101 ^ 0011 = 0110 (6)\n",
    "print(\"x ^ y  :\", xor_result)\n",
    "\n",
    "# NOT (~x): Inverts all the bits\n",
    "not_result = ~x     # ~0101 = ...11111010 (-6, in 2's complement)\n",
    "print(\"~x     :\", not_result)\n",
    "\n",
    "# Left shift (x << 2): Shift left by pushing zeros in from the right\n",
    "left_shift_result = x << 2  # 0101 << 2 = 10100 (20)\n",
    "print(\"x << 2 :\", left_shift_result)\n",
    "\n",
    "# Right shift (x >> 2): Shift right by pushing copies of the leftmost bit in from the left\n",
    "right_shift_result = x >> 2  # 0101 >> 2 = 0001 (1)\n",
    "print(\"x >> 2 :\", right_shift_result)\n"
   ]
  },
  {
   "cell_type": "markdown",
   "id": "487c3cc9",
   "metadata": {},
   "source": [
    "Precendence"
   ]
  },
  {
   "cell_type": "code",
   "execution_count": 10,
   "id": "a1aa47a6",
   "metadata": {},
   "outputs": [
    {
     "name": "stdout",
     "output_type": "stream",
     "text": [
      "0\n"
     ]
    }
   ],
   "source": [
    "print((6 + 3) - (6 + 3))"
   ]
  }
 ],
 "metadata": {
  "kernelspec": {
   "display_name": "Python 3",
   "language": "python",
   "name": "python3"
  },
  "language_info": {
   "codemirror_mode": {
    "name": "ipython",
    "version": 3
   },
   "file_extension": ".py",
   "mimetype": "text/x-python",
   "name": "python",
   "nbconvert_exporter": "python",
   "pygments_lexer": "ipython3",
   "version": "3.13.3"
  }
 },
 "nbformat": 4,
 "nbformat_minor": 5
}
