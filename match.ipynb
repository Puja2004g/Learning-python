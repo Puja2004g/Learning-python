{
 "cells": [
  {
   "cell_type": "markdown",
   "id": "292cf8f2",
   "metadata": {},
   "source": [
    "Instead of writing many if..else statements, you can use the match statement."
   ]
  },
  {
   "cell_type": "markdown",
   "id": "1178ac8e",
   "metadata": {},
   "source": [
    "The match statement selects one of many code blocks to be executed."
   ]
  },
  {
   "cell_type": "code",
   "execution_count": 1,
   "id": "9a4a6b01",
   "metadata": {},
   "outputs": [
    {
     "name": "stdout",
     "output_type": "stream",
     "text": [
      "Thursday\n"
     ]
    }
   ],
   "source": [
    "day = 4\n",
    "match day:\n",
    "  case 1:\n",
    "    print(\"Monday\")\n",
    "  case 2:\n",
    "    print(\"Tuesday\")\n",
    "  case 3:\n",
    "    print(\"Wednesday\")\n",
    "  case 4:\n",
    "    print(\"Thursday\")\n",
    "  case 5:\n",
    "    print(\"Friday\")\n",
    "  case 6:\n",
    "    print(\"Saturday\")\n",
    "  case 7:\n",
    "    print(\"Sunday\")"
   ]
  },
  {
   "cell_type": "code",
   "execution_count": 2,
   "id": "e8bf28bc",
   "metadata": {},
   "outputs": [
    {
     "name": "stdout",
     "output_type": "stream",
     "text": [
      "Looking forward to the Weekend\n"
     ]
    }
   ],
   "source": [
    "day = 4\n",
    "match day:\n",
    "  case 6:\n",
    "    print(\"Today is Saturday\")\n",
    "  case 7:\n",
    "    print(\"Today is Sunday\")\n",
    "  case _:\n",
    "    print(\"Looking forward to the Weekend\")"
   ]
  },
  {
   "cell_type": "code",
   "execution_count": 4,
   "id": "0739c55f",
   "metadata": {},
   "outputs": [
    {
     "name": "stdout",
     "output_type": "stream",
     "text": [
      "I love weekends!\n"
     ]
    }
   ],
   "source": [
    "day = 6\n",
    "match day:\n",
    "  case 1 | 2 | 3 | 4 | 5:\n",
    "    print(\"Today is a weekday\")\n",
    "  case 6 | 7:\n",
    "    print(\"I love weekends!\")"
   ]
  },
  {
   "cell_type": "code",
   "execution_count": 6,
   "id": "e0fc6f01",
   "metadata": {},
   "outputs": [
    {
     "name": "stdout",
     "output_type": "stream",
     "text": [
      "A weekday in May\n"
     ]
    }
   ],
   "source": [
    "month = 5\n",
    "day = 4\n",
    "match day:\n",
    "  case 1 | 2 | 3 | 4 | 5 if month == 4:\n",
    "    print(\"A weekday in April\")\n",
    "  case 1 | 2 | 3 | 4 | 5 if month == 5:\n",
    "    print(\"A weekday in May\")\n",
    "  case _:\n",
    "    print(\"No match\")"
   ]
  }
 ],
 "metadata": {
  "kernelspec": {
   "display_name": "Python 3",
   "language": "python",
   "name": "python3"
  },
  "language_info": {
   "codemirror_mode": {
    "name": "ipython",
    "version": 3
   },
   "file_extension": ".py",
   "mimetype": "text/x-python",
   "name": "python",
   "nbconvert_exporter": "python",
   "pygments_lexer": "ipython3",
   "version": "3.13.3"
  }
 },
 "nbformat": 4,
 "nbformat_minor": 5
}
