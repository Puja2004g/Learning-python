{
 "cells": [
  {
   "cell_type": "code",
   "execution_count": 16,
   "id": "6c529ec0",
   "metadata": {},
   "outputs": [],
   "source": [
    "class student:\n",
    "    def __init__(self, name, age):\n",
    "        self.name = name\n",
    "        self.age = age\n",
    "    def getname(self):\n",
    "        print(self.name)"
   ]
  },
  {
   "cell_type": "code",
   "execution_count": 22,
   "id": "1226d890-24d5-4b36-8d54-fbaa9e48d901",
   "metadata": {},
   "outputs": [],
   "source": [
    "class student1(student):\n",
    "    pass"
   ]
  },
  {
   "cell_type": "code",
   "execution_count": 19,
   "id": "edf1e5c0-0efe-44b0-9169-8edaec7749dc",
   "metadata": {},
   "outputs": [
    {
     "name": "stdout",
     "output_type": "stream",
     "text": [
      "Puja\n"
     ]
    }
   ],
   "source": [
    "obj1= student (\"Puja\", 22)\n",
    "obj1.getname()"
   ]
  },
  {
   "cell_type": "code",
   "execution_count": 23,
   "id": "5524ab64-f1b0-45cc-818f-2f1fed21dcdc",
   "metadata": {},
   "outputs": [
    {
     "name": "stdout",
     "output_type": "stream",
     "text": [
      "Abc\n"
     ]
    }
   ],
   "source": [
    "obj = student1(\"Abc\", 25)\n",
    "obj.getname()"
   ]
  }
 ],
 "metadata": {
  "kernelspec": {
   "display_name": "Python 3 (ipykernel)",
   "language": "python",
   "name": "python3"
  },
  "language_info": {
   "codemirror_mode": {
    "name": "ipython",
    "version": 3
   },
   "file_extension": ".py",
   "mimetype": "text/x-python",
   "name": "python",
   "nbconvert_exporter": "python",
   "pygments_lexer": "ipython3",
   "version": "3.12.7"
  }
 },
 "nbformat": 4,
 "nbformat_minor": 5
}
